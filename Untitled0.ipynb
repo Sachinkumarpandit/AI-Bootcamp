{
  "nbformat": 4,
  "nbformat_minor": 0,
  "metadata": {
    "colab": {
      "provenance": []
    },
    "kernelspec": {
      "name": "python3",
      "display_name": "Python 3"
    },
    "language_info": {
      "name": "python"
    }
  },
  "cells": [
    {
      "cell_type": "code",
      "execution_count": null,
      "metadata": {
        "colab": {
          "base_uri": "https://localhost:8080/"
        },
        "id": "7baxct7apMS1",
        "outputId": "6e553ebc-f4bb-4674-e598-edc267fa517a"
      },
      "outputs": [
        {
          "output_type": "stream",
          "name": "stdout",
          "text": [
            "Hello World\n"
          ]
        }
      ],
      "source": [
        "print(\"Hello World\")"
      ]
    },
    {
      "cell_type": "code",
      "source": [
        "a=56\n",
        "b=21\n",
        "c=a+b\n",
        "print(\"sum of the\",c)"
      ],
      "metadata": {
        "colab": {
          "base_uri": "https://localhost:8080/"
        },
        "id": "HwzbqkdAsLm4",
        "outputId": "a1d0aa19-5602-4635-8dd5-3e9e69b18c1b"
      },
      "execution_count": null,
      "outputs": [
        {
          "output_type": "stream",
          "name": "stdout",
          "text": [
            "sum of the 77\n"
          ]
        }
      ]
    },
    {
      "cell_type": "code",
      "source": [
        "a=int(input(\"Enter first Number\"))\n",
        "b=int(input(\"Enter Second Number\"))\n",
        "c=a*b\n",
        "print(\"Result=\",c)"
      ],
      "metadata": {
        "colab": {
          "base_uri": "https://localhost:8080/"
        },
        "id": "ojDgaNrjssNX",
        "outputId": "05c888d8-6d53-478a-b40e-ddea05269ddc"
      },
      "execution_count": null,
      "outputs": [
        {
          "output_type": "stream",
          "name": "stdout",
          "text": [
            "Enter first Number67\n",
            "Enter Second Number53\n",
            "Result= 3551\n"
          ]
        }
      ]
    }
  ]
}